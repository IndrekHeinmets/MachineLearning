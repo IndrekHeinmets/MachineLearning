{
 "cells": [
  {
   "cell_type": "code",
   "execution_count": 25,
   "metadata": {},
   "outputs": [],
   "source": [
    "import random"
   ]
  },
  {
   "cell_type": "code",
   "execution_count": 26,
   "metadata": {},
   "outputs": [],
   "source": [
    "def foo(x, y, z, t):  # f(x,y,z,t) = 6x^4 + 9y^3 + 86z^2 + 128t = 420\n",
    "    return 6*x**4 + 9*y**3 + 86*z**2 + 128*t - 420\n",
    "\n",
    "def fit(x, y, z, t):\n",
    "    res = foo(x, y, z, t)\n",
    "    if res == 0:\n",
    "        return 99999999999\n",
    "    else:\n",
    "        return abs(1/res)"
   ]
  },
  {
   "cell_type": "code",
   "execution_count": null,
   "metadata": {},
   "outputs": [],
   "source": [
    "# Generate Solutions:\n",
    "sols = []\n",
    "for sol in range(1000):\n",
    "    sols.append((random.uniform(0, 100000),\n",
    "                random.uniform(0, 100000),\n",
    "                random.uniform(0, 100000),\n",
    "                random.uniform(0, 100000)))\n",
    "    \n",
    "for i in range(10000):\n",
    "    ranked_sols = []\n",
    "    for sol in sols:\n",
    "        ranked_sols.append((fit(sol[0], sol[1], sol[2], sol[3]), sol))\n",
    "    ranked_sols.sort()\n",
    "    ranked_sols.reverse()\n",
    "\n",
    "    print(f'=== Gen {i} Best Solutions ===\\n')\n",
    "    print(ranked_sols[0])\n",
    "\n",
    "    elements, best_sols, new_gen = [], ranked_sols[:100], []\n",
    "    for sol in best_sols:\n",
    "        elements.append(sol[1][0])\n",
    "        elements.append(sol[1][1])\n",
    "        elements.append(sol[1][2])\n",
    "        elements.append(sol[1][3])\n",
    "    \n",
    "    for i in range(1000):\n",
    "        elem1 = random.choice(elements) * random.uniform(0.99, 1.01)\n",
    "        elem2 = random.choice(elements) * random.uniform(0.99, 1.01)\n",
    "        elem3 = random.choice(elements) * random.uniform(0.99, 1.01)\n",
    "        elem4 = random.choice(elements) * random.uniform(0.99, 1.01)\n",
    "\n",
    "        new_gen.append((elem1, elem2, elem3, elem4))\n",
    "\n",
    "    sols = new_gen"
   ]
  }
 ],
 "metadata": {
  "kernelspec": {
   "display_name": "Python 3",
   "language": "python",
   "name": "python3"
  },
  "language_info": {
   "codemirror_mode": {
    "name": "ipython",
    "version": 3
   },
   "file_extension": ".py",
   "mimetype": "text/x-python",
   "name": "python",
   "nbconvert_exporter": "python",
   "pygments_lexer": "ipython3",
   "version": "3.11.1"
  },
  "orig_nbformat": 4,
  "vscode": {
   "interpreter": {
    "hash": "afec64c42678440f7989e5b1b84543572355afbe6d702e33cd7dcb1e41501517"
   }
  }
 },
 "nbformat": 4,
 "nbformat_minor": 2
}
